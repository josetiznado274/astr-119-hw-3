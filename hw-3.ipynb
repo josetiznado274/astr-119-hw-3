{
 "cells": [
  {
   "cell_type": "code",
   "execution_count": null,
   "metadata": {},
   "outputs": [],
   "source": [
    "%matplotlib inline\n",
    "import numpy as np\n",
    "import matplotlib.pyplot as plt"
   ]
  },
  {
   "cell_type": "code",
   "execution_count": null,
   "metadata": {},
   "outputs": [],
   "source": [
    "x = np.linspace(0,2*np.pi, 1000)#creates an array for x running x=[0,2*pi] with 1000 inclusive values\n",
    "y = np.cos(2*x)*5.5+5.5          #first equation in the homework set to y\n",
    "z = np.exp(x)*0.02               #second equation in the homework set to z\n",
    "w = np.sin(10*x)*0.1+0.25*x**2   #third equation in the homework set to w\n",
    "plt.xlim(0,2*np.pi)      #limits the x range from 0 to 2*pi \n",
    "plt.ylim(-1,10)      #limits the y range from -1 to 10, -1 isnt shown in the plot maybe because of the increments but the range is set from -1 to 10\n",
    "plt.plot(x,y)   #plots the first equation in the graph as its seperate function                 \n",
    "plt.plot(x,z)   #plots the second equation in the graph as its seperate function\n",
    "plt.plot(x,w)   #plots the third equation in the graph as its seperate function\n",
    "plt.xlabel('Time in ASTR/EART 119')    #sets the name of the x axis to \"Time in ASTR/EART 119\"\n",
    "plt.ylabel('Measure of Awesomeness')   #sets the namm,e of the y axis to \"Measure of Awesomeness\"\n",
    "plt.show()    #prints all stored in plt to the plot so all the equations are printed in the graph when \"Run\" is pressed"
   ]
  },
  {
   "cell_type": "code",
   "execution_count": null,
   "metadata": {},
   "outputs": [],
   "source": []
  }
 ],
 "metadata": {
  "kernelspec": {
   "display_name": "Python 3",
   "language": "python",
   "name": "python3"
  },
  "language_info": {
   "codemirror_mode": {
    "name": "ipython",
    "version": 3
   },
   "file_extension": ".py",
   "mimetype": "text/x-python",
   "name": "python",
   "nbconvert_exporter": "python",
   "pygments_lexer": "ipython3",
   "version": "3.8.3"
  }
 },
 "nbformat": 4,
 "nbformat_minor": 4
}
